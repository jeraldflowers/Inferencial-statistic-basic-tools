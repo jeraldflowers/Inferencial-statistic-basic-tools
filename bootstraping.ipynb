{
  "nbformat": 4,
  "nbformat_minor": 0,
  "metadata": {
    "colab": {
      "provenance": [],
      "authorship_tag": "ABX9TyNWSljWjYZ3RhzhDhKofmTR",
      "include_colab_link": true
    },
    "kernelspec": {
      "name": "python3",
      "display_name": "Python 3"
    },
    "language_info": {
      "name": "python"
    }
  },
  "cells": [
    {
      "cell_type": "markdown",
      "metadata": {
        "id": "view-in-github",
        "colab_type": "text"
      },
      "source": [
        "<a href=\"https://colab.research.google.com/github/jeraldflowers/Inferencial-statistic-basic-tools/blob/main/bootstraping.ipynb\" target=\"_parent\"><img src=\"https://colab.research.google.com/assets/colab-badge.svg\" alt=\"Open In Colab\"/></a>"
      ]
    },
    {
      "cell_type": "code",
      "execution_count": 1,
      "metadata": {
        "id": "uuo5tRxITt8s"
      },
      "outputs": [],
      "source": [
        "import pandas as pd\n",
        "import numpy as np\n",
        "import random"
      ]
    },
    {
      "cell_type": "code",
      "source": [
        "data = np.random.normal(loc=34, size=10000)\n",
        "data"
      ],
      "metadata": {
        "colab": {
          "base_uri": "https://localhost:8080/"
        },
        "id": "Fl8IHopNT5D5",
        "outputId": "bce60de6-c738-4385-9950-f08693510326"
      },
      "execution_count": 2,
      "outputs": [
        {
          "output_type": "execute_result",
          "data": {
            "text/plain": [
              "array([35.88255798, 33.8213849 , 31.59387195, ..., 33.40845953,\n",
              "       32.27785994, 34.0626122 ])"
            ]
          },
          "metadata": {},
          "execution_count": 2
        }
      ]
    },
    {
      "cell_type": "code",
      "source": [
        "data.mean()"
      ],
      "metadata": {
        "colab": {
          "base_uri": "https://localhost:8080/"
        },
        "id": "GB25bhGYUEj4",
        "outputId": "97cfd24c-84fb-4c9a-f67e-124e56357e6d"
      },
      "execution_count": 3,
      "outputs": [
        {
          "output_type": "execute_result",
          "data": {
            "text/plain": [
              "33.99630410326087"
            ]
          },
          "metadata": {},
          "execution_count": 3
        }
      ]
    },
    {
      "cell_type": "markdown",
      "source": [
        "### Bootstraping to average ages calculation"
      ],
      "metadata": {
        "id": "9FCyQxKZUJoi"
      }
    },
    {
      "cell_type": "code",
      "source": [
        "average = []\n",
        "for i in range(40):\n",
        "  sample = random.sample(data.tolist(), 5)\n",
        "  prom = np.mean(sample)\n",
        "  average.append(prom)"
      ],
      "metadata": {
        "id": "PMXuBSfIUHsq"
      },
      "execution_count": 4,
      "outputs": []
    },
    {
      "cell_type": "code",
      "source": [
        "np.mean(average)"
      ],
      "metadata": {
        "colab": {
          "base_uri": "https://localhost:8080/"
        },
        "id": "5dmAOS19UwO9",
        "outputId": "1deb48f3-d282-4a96-ea70-92638ebddf20"
      },
      "execution_count": 5,
      "outputs": [
        {
          "output_type": "execute_result",
          "data": {
            "text/plain": [
              "34.0346789468844"
            ]
          },
          "metadata": {},
          "execution_count": 5
        }
      ]
    },
    {
      "cell_type": "code",
      "source": [],
      "metadata": {
        "id": "6qVq3peEUyfy"
      },
      "execution_count": null,
      "outputs": []
    }
  ]
}